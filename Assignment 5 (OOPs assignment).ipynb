{
 "cells": [
  {
   "cell_type": "markdown",
   "id": "ac0358ed-cf72-470f-aa8c-206ce5687f93",
   "metadata": {},
   "source": [
    "# Assignment 5 (week4 Oops task management)"
   ]
  },
  {
   "cell_type": "markdown",
   "id": "966574c1-2779-4bb6-b0d5-f3fbacbff53b",
   "metadata": {},
   "source": [
    "#Q1. Create a vehicle class with an init method having instance variables as name_of_vehicle, max_speed and average_of_vehicle.\n"
   ]
  },
  {
   "cell_type": "code",
   "execution_count": 12,
   "id": "a792ec69-23c4-447e-b391-c3adf2c3f34c",
   "metadata": {},
   "outputs": [],
   "source": [
    "class vehicle:\n",
    "    \n",
    "    def __init__(self,name_of_vehicle, max_speed,average_of_vehicle):\n",
    "        self.name_of_vehicle = name_of_vehicle\n",
    "        self.max_speed = max_speed\n",
    "        self.average_of_vehicle = average_of_vehicle\n",
    "        \n",
    "        "
   ]
  },
  {
   "cell_type": "code",
   "execution_count": 13,
   "id": "351dc9e0-efbe-4b50-92df-d25716750d53",
   "metadata": {},
   "outputs": [],
   "source": [
    "car = vehicle(\"Car\", 190, 30)\n",
    "bike = vehicle(\"Bike\", 120, 40)\n",
    "bus = vehicle(\"Bus\",50, 20)"
   ]
  },
  {
   "cell_type": "code",
   "execution_count": 14,
   "id": "071ef022-a206-4579-a624-e737aaa4ce7c",
   "metadata": {},
   "outputs": [
    {
     "name": "stdout",
     "output_type": "stream",
     "text": [
      "30\n"
     ]
    }
   ],
   "source": [
    "print(car.average_of_vehicle)"
   ]
  },
  {
   "cell_type": "code",
   "execution_count": 15,
   "id": "9edcba85-8f0a-4898-9aa0-c095075fc07f",
   "metadata": {},
   "outputs": [
    {
     "name": "stdout",
     "output_type": "stream",
     "text": [
      "Bus\n"
     ]
    }
   ],
   "source": [
    "print(bus.name_of_vehicle)"
   ]
  },
  {
   "cell_type": "code",
   "execution_count": 16,
   "id": "f89bebd5-e819-456c-9f17-8e4c96ff32ec",
   "metadata": {},
   "outputs": [
    {
     "name": "stdout",
     "output_type": "stream",
     "text": [
      "40\n",
      "120\n"
     ]
    }
   ],
   "source": [
    "print(bike.average_of_vehicle)\n",
    "print(bike.max_speed)"
   ]
  },
  {
   "cell_type": "markdown",
   "id": "168b7242-e8b8-42c6-af0d-dfdec23e77ae",
   "metadata": {},
   "source": [
    "#Q2. Create a child class car from the vehicle class created in Que 1, which will inherit the vehicle class.Create a method named seating_capacity which takes capacity as an argument and returns the name of the vehicle and its seating capacity.\n"
   ]
  },
  {
   "cell_type": "code",
   "execution_count": 25,
   "id": "4d426b0c-15c5-4233-b654-e19a7baed2f2",
   "metadata": {},
   "outputs": [],
   "source": [
    "class Car(vehicle):\n",
    "    def seating_capacity(self, capacity):\n",
    "        return f\"{self.name_of_vehicle} has a seating capacity of {capacity} persons.\""
   ]
  },
  {
   "cell_type": "code",
   "execution_count": 26,
   "id": "9c5c695a-cfd2-4ac0-9a60-187255bef0fd",
   "metadata": {},
   "outputs": [
    {
     "name": "stdout",
     "output_type": "stream",
     "text": [
      "Car A has a seating capacity of 8 persons.\n",
      "Car B has a seating capacity of 6 persons.\n"
     ]
    }
   ],
   "source": [
    "car1 = Car(\"Car A\", 180, 40)\n",
    "car2 = Car(\"Car B\", 160, 30)\n",
    "\n",
    "print(car1.seating_capacity(8))\n",
    "print(car2.seating_capacity(6))"
   ]
  },
  {
   "cell_type": "markdown",
   "id": "6f0689a1-ea17-4f74-af89-d723a18d8071",
   "metadata": {},
   "source": [
    "#Q3. What is multiple inheritance? Write a python code to demonstrate multiple inheritance."
   ]
  },
  {
   "cell_type": "markdown",
   "id": "ddf0107d-ab6b-419e-b08a-4cbd43b0ff27",
   "metadata": {},
   "source": [
    "#Ans. When a child class inherit from more than 1 parent class then it is called multiple inheritance"
   ]
  },
  {
   "cell_type": "code",
   "execution_count": 21,
   "id": "101ca366-c530-43ea-892c-4faeb139b023",
   "metadata": {},
   "outputs": [],
   "source": [
    "# Code to demonstrate multiple inheritance.\n",
    "\n",
    "\n",
    "class fruit:\n",
    "    \n",
    "    def apple(self):\n",
    "        return \"The taste of apple is sweet\"\n",
    "    #This is parent class"
   ]
  },
  {
   "cell_type": "code",
   "execution_count": 22,
   "id": "f4bf7523-f532-4efc-9fe3-27d0edb5f425",
   "metadata": {},
   "outputs": [],
   "source": [
    "class fruit1:\n",
    "    \n",
    "    def orange(self):\n",
    "        return \"The taste of orange is sour\"\n",
    "    # #This is parent class too"
   ]
  },
  {
   "cell_type": "code",
   "execution_count": 23,
   "id": "337e7295-821a-4a7b-a02d-2b38fc80d039",
   "metadata": {},
   "outputs": [],
   "source": [
    "class taste(fruit,fruit1):\n",
    "    pass\n",
    "#This is child class"
   ]
  },
  {
   "cell_type": "code",
   "execution_count": 24,
   "id": "e6310b9f-817a-4c0d-9316-34dc85b5fdb6",
   "metadata": {},
   "outputs": [],
   "source": [
    "a = taste()"
   ]
  },
  {
   "cell_type": "code",
   "execution_count": 25,
   "id": "91ab7412-9ecd-4226-8ea6-a9e0875ec18b",
   "metadata": {},
   "outputs": [
    {
     "data": {
      "text/plain": [
       "'The taste of apple is sweet'"
      ]
     },
     "execution_count": 25,
     "metadata": {},
     "output_type": "execute_result"
    }
   ],
   "source": [
    "a.apple()"
   ]
  },
  {
   "cell_type": "code",
   "execution_count": 26,
   "id": "0351ef41-27ea-4ad4-aa41-6e155b53e2fd",
   "metadata": {},
   "outputs": [
    {
     "data": {
      "text/plain": [
       "'The taste of orange is sour'"
      ]
     },
     "execution_count": 34,
     "metadata": {},
     "output_type": "execute_result"
    }
   ],
   "source": [
    "a.orange()"
   ]
  },
  {
   "cell_type": "markdown",
   "id": "b6225761-c7d5-4fa5-85ca-383529abf5c0",
   "metadata": {},
   "source": [
    "#Q4. What are getter and setter in python? Create a class and create a getter and a setter method in this class."
   ]
  },
  {
   "cell_type": "code",
   "execution_count": 36,
   "id": "01ec52c5-1094-404a-b14f-6f2098ec23db",
   "metadata": {},
   "outputs": [],
   "source": [
    "# Setter and getter are methods used to get controlled access to an object"
   ]
  },
  {
   "cell_type": "code",
   "execution_count": 43,
   "id": "b9cc3456-0329-4c96-87e2-6843a790a713",
   "metadata": {},
   "outputs": [],
   "source": [
    "class factory:\n",
    "    \n",
    "    def __init__(self,goods_name,goods_price):\n",
    "        self.__goods_name = goods_name # goods_name is currently not accessabble\n",
    "        self.goods_price = goods_price\n",
    "     \n",
    "    #Getter\n",
    "    @property # This is getter because by this we can get access to __goods_name\n",
    "    def goods_name_access(self):\n",
    "        return self.__goods_name\n",
    "    \n",
    "    #Setter\n",
    "    @goods_name_access.setter # This is setter because we can modify any new name by using this\n",
    "    def set_goods_name(self, new_name):\n",
    "        self.__goods_name = new_name"
   ]
  },
  {
   "cell_type": "code",
   "execution_count": 44,
   "id": "ad44b94d-5551-4b0a-8725-a64f2a19b3f7",
   "metadata": {},
   "outputs": [
    {
     "name": "stdout",
     "output_type": "stream",
     "text": [
      "Current goods name: Product\n"
     ]
    }
   ],
   "source": [
    "f_obj = factory(\"Product\", 100)# Creating an instance of the factory class\n",
    "print(\"Current goods name:\", f_obj.goods_name_access)"
   ]
  },
  {
   "cell_type": "code",
   "execution_count": 49,
   "id": "aa1fa97f-b64f-4b08-9fa7-f5c0fc1e87df",
   "metadata": {},
   "outputs": [
    {
     "name": "stdout",
     "output_type": "stream",
     "text": [
      "Updated goods name: Product2\n"
     ]
    }
   ],
   "source": [
    "new_name = \"Product2\"\n",
    "\n",
    "f_obj.goods_name_access1 = new_name\n",
    "\n",
    "print(\"Updated goods name:\", f_obj.goods_name_access1)"
   ]
  },
  {
   "cell_type": "markdown",
   "id": "7e0d279e-40e9-4546-af98-a106c300bc22",
   "metadata": {
    "tags": []
   },
   "source": [
    "#Q5.What is method overriding in python? Write a python code to demonstrate method overriding."
   ]
  },
  {
   "cell_type": "code",
   "execution_count": 27,
   "id": "88576d57-7046-475f-816a-4aec2a29f16a",
   "metadata": {},
   "outputs": [],
   "source": [
    "#Ans. Ability of a subclass to provide a specific implementation for a method that is already defined in its superclass is known as method overridng."
   ]
  },
  {
   "cell_type": "code",
   "execution_count": 28,
   "id": "bfb56acc-4ad3-4f18-93b8-253ab83fb9f7",
   "metadata": {},
   "outputs": [],
   "source": [
    "class raghav:\n",
    "    \n",
    "    def friends(self):\n",
    "        print(\"Raghav is my 1st friend\")"
   ]
  },
  {
   "cell_type": "code",
   "execution_count": 29,
   "id": "658ca6dd-9d71-4199-b357-b904814b2640",
   "metadata": {},
   "outputs": [],
   "source": [
    "class sachin:\n",
    "    \n",
    "    def friends(self):\n",
    "        print(\"Sachin is my 2nd friend\")"
   ]
  },
  {
   "cell_type": "code",
   "execution_count": 30,
   "id": "d9082014-c236-4898-afe5-85b5031c9741",
   "metadata": {},
   "outputs": [],
   "source": [
    "def best_friend(friends):\n",
    "    \n",
    "    for i in friends:\n",
    "        i.friends()"
   ]
  },
  {
   "cell_type": "code",
   "execution_count": 31,
   "id": "d5e9fd49-9654-494a-8494-dac3482a1ca7",
   "metadata": {},
   "outputs": [],
   "source": [
    "friends_obj = raghav()"
   ]
  },
  {
   "cell_type": "code",
   "execution_count": 32,
   "id": "1d1b3a8b-c8ba-4a9a-b2e7-78d0f1009c89",
   "metadata": {},
   "outputs": [],
   "source": [
    "friends_obj2 = sachin()"
   ]
  },
  {
   "cell_type": "code",
   "execution_count": 33,
   "id": "b166a4ee-37c6-492d-9b72-1a69564fc982",
   "metadata": {},
   "outputs": [],
   "source": [
    "obj = [friends_obj,friends_obj2]"
   ]
  },
  {
   "cell_type": "code",
   "execution_count": 35,
   "id": "bc4765a9-c61c-4420-9cb3-ffefc010be0b",
   "metadata": {},
   "outputs": [
    {
     "name": "stdout",
     "output_type": "stream",
     "text": [
      "Raghav is my 1st friend\n",
      "Sachin is my 2nd friend\n"
     ]
    }
   ],
   "source": [
    "best_friend(obj)"
   ]
  },
  {
   "cell_type": "code",
   "execution_count": null,
   "id": "a184cad5-4f3b-4c29-ac5c-6d6b462fbcac",
   "metadata": {},
   "outputs": [],
   "source": []
  }
 ],
 "metadata": {
  "kernelspec": {
   "display_name": "Python 3 (ipykernel)",
   "language": "python",
   "name": "python3"
  },
  "language_info": {
   "codemirror_mode": {
    "name": "ipython",
    "version": 3
   },
   "file_extension": ".py",
   "mimetype": "text/x-python",
   "name": "python",
   "nbconvert_exporter": "python",
   "pygments_lexer": "ipython3",
   "version": "3.10.8"
  }
 },
 "nbformat": 4,
 "nbformat_minor": 5
}
